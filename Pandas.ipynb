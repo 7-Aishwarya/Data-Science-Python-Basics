{
  "nbformat": 4,
  "nbformat_minor": 0,
  "metadata": {
    "colab": {
      "provenance": [],
      "authorship_tag": "ABX9TyO3p3medC+SR5vAcGAdgsHP",
      "include_colab_link": true
    },
    "kernelspec": {
      "name": "python3",
      "display_name": "Python 3"
    },
    "language_info": {
      "name": "python"
    }
  },
  "cells": [
    {
      "cell_type": "markdown",
      "metadata": {
        "id": "view-in-github",
        "colab_type": "text"
      },
      "source": [
        "<a href=\"https://colab.research.google.com/github/7-Aishwarya/Data-Science-Python-Basics/blob/main/Pandas.ipynb\" target=\"_parent\"><img src=\"https://colab.research.google.com/assets/colab-badge.svg\" alt=\"Open In Colab\"/></a>"
      ]
    },
    {
      "cell_type": "code",
      "execution_count": null,
      "metadata": {
        "colab": {
          "base_uri": "https://localhost:8080/"
        },
        "id": "gc78A_mXA5Z6",
        "outputId": "80d0baf3-9190-4281-bd3e-65ebd91151f0"
      },
      "outputs": [
        {
          "output_type": "execute_result",
          "data": {
            "text/plain": [
              "0    0\n",
              "1    1\n",
              "2    2\n",
              "3    3\n",
              "4    4\n",
              "dtype: int64"
            ]
          },
          "metadata": {},
          "execution_count": 3
        }
      ],
      "source": [
        "import pandas as pd\n",
        "l = [x for x in range(5)]\n",
        "s = pd.Series(l)\n",
        "s"
      ]
    },
    {
      "cell_type": "code",
      "source": [
        "s =pd.Series(l,index=['p','y','t','h','0'])\n",
        "s"
      ],
      "metadata": {
        "colab": {
          "base_uri": "https://localhost:8080/"
        },
        "id": "MSls9VfwBRuW",
        "outputId": "84882e5e-dc11-4c04-d603-7525dd84d2ed"
      },
      "execution_count": null,
      "outputs": [
        {
          "output_type": "execute_result",
          "data": {
            "text/plain": [
              "p    0\n",
              "y    1\n",
              "t    2\n",
              "h    3\n",
              "0    4\n",
              "dtype: int64"
            ]
          },
          "metadata": {},
          "execution_count": 4
        }
      ]
    },
    {
      "cell_type": "code",
      "source": [
        "s['p']"
      ],
      "metadata": {
        "colab": {
          "base_uri": "https://localhost:8080/"
        },
        "id": "5r2OctPaBtu-",
        "outputId": "9d7fe171-2cc5-45a1-dcbe-15137e801087"
      },
      "execution_count": null,
      "outputs": [
        {
          "output_type": "execute_result",
          "data": {
            "text/plain": [
              "0"
            ]
          },
          "metadata": {},
          "execution_count": 7
        }
      ]
    },
    {
      "cell_type": "code",
      "source": [
        "s =pd.Series(l,index=['p','p','t','h','0'])\n",
        "s['p']"
      ],
      "metadata": {
        "colab": {
          "base_uri": "https://localhost:8080/"
        },
        "id": "IPI-t30LB0vF",
        "outputId": "1424d4b0-3e4c-4aad-8dd6-93e3c7027c0e"
      },
      "execution_count": null,
      "outputs": [
        {
          "output_type": "execute_result",
          "data": {
            "text/plain": [
              "p    0\n",
              "p    1\n",
              "dtype: int64"
            ]
          },
          "metadata": {},
          "execution_count": 8
        }
      ]
    },
    {
      "cell_type": "code",
      "source": [
        "dict = {'p':1,'y':2,'t':3,'h':4,'o':5,'n':6}\n",
        "s= pd.Series(dict)\n",
        "s"
      ],
      "metadata": {
        "colab": {
          "base_uri": "https://localhost:8080/"
        },
        "id": "ZLEWjKFeB7J9",
        "outputId": "43ba8d88-27b4-4066-d70f-85184522fcf8"
      },
      "execution_count": null,
      "outputs": [
        {
          "output_type": "execute_result",
          "data": {
            "text/plain": [
              "p    1\n",
              "y    2\n",
              "t    3\n",
              "h    4\n",
              "o    5\n",
              "n    6\n",
              "dtype: int64"
            ]
          },
          "metadata": {},
          "execution_count": 10
        }
      ]
    },
    {
      "cell_type": "code",
      "source": [
        "s= pd.Series(dict,index=['p','y','t'])\n",
        "s"
      ],
      "metadata": {
        "colab": {
          "base_uri": "https://localhost:8080/"
        },
        "id": "9at8nYmlCO_Y",
        "outputId": "8be0afa6-4da9-46a9-bd50-e28b8bd7d166"
      },
      "execution_count": null,
      "outputs": [
        {
          "output_type": "execute_result",
          "data": {
            "text/plain": [
              "p    1\n",
              "y    2\n",
              "t    3\n",
              "dtype: int64"
            ]
          },
          "metadata": {},
          "execution_count": 12
        }
      ]
    },
    {
      "cell_type": "code",
      "source": [
        "s= pd.Series(dict,index=['p','y','t','a'])\n",
        "s"
      ],
      "metadata": {
        "colab": {
          "base_uri": "https://localhost:8080/"
        },
        "id": "ePZV4PJ5Clfx",
        "outputId": "ad43e566-78c1-4133-99f0-3ab454b842ce"
      },
      "execution_count": null,
      "outputs": [
        {
          "output_type": "execute_result",
          "data": {
            "text/plain": [
              "p    1.0\n",
              "y    2.0\n",
              "t    3.0\n",
              "a    NaN\n",
              "dtype: float64"
            ]
          },
          "metadata": {},
          "execution_count": 13
        }
      ]
    },
    {
      "cell_type": "code",
      "source": [
        "import pandas as pd\n",
        "l = [x for x in range(10)]\n",
        "s = pd.Series(l)\n",
        "s"
      ],
      "metadata": {
        "colab": {
          "base_uri": "https://localhost:8080/"
        },
        "id": "TQ7zY054DBo2",
        "outputId": "ff0f3a60-ad95-4053-c943-9abcd9672713"
      },
      "execution_count": null,
      "outputs": [
        {
          "output_type": "execute_result",
          "data": {
            "text/plain": [
              "0    0\n",
              "1    1\n",
              "2    2\n",
              "3    3\n",
              "4    4\n",
              "5    5\n",
              "6    6\n",
              "7    7\n",
              "8    8\n",
              "9    9\n",
              "dtype: int64"
            ]
          },
          "metadata": {},
          "execution_count": 14
        }
      ]
    },
    {
      "cell_type": "code",
      "source": [
        "s.iloc[0]"
      ],
      "metadata": {
        "colab": {
          "base_uri": "https://localhost:8080/"
        },
        "id": "EoqV6S14DGex",
        "outputId": "65de4e24-fbc0-44fe-c476-7cb6093461c6"
      },
      "execution_count": null,
      "outputs": [
        {
          "output_type": "execute_result",
          "data": {
            "text/plain": [
              "0"
            ]
          },
          "metadata": {},
          "execution_count": 15
        }
      ]
    },
    {
      "cell_type": "code",
      "source": [
        "s.iloc[9]"
      ],
      "metadata": {
        "colab": {
          "base_uri": "https://localhost:8080/"
        },
        "id": "G41JiVQiDJYp",
        "outputId": "3342df36-5579-4f22-faf2-caf348944254"
      },
      "execution_count": null,
      "outputs": [
        {
          "output_type": "execute_result",
          "data": {
            "text/plain": [
              "9"
            ]
          },
          "metadata": {},
          "execution_count": 16
        }
      ]
    },
    {
      "cell_type": "code",
      "source": [
        "s.iat[5]"
      ],
      "metadata": {
        "colab": {
          "base_uri": "https://localhost:8080/"
        },
        "id": "iH5bhW5LDL1n",
        "outputId": "d0626369-8ec3-4473-ad90-5d7d934cc47d"
      },
      "execution_count": null,
      "outputs": [
        {
          "output_type": "execute_result",
          "data": {
            "text/plain": [
              "5"
            ]
          },
          "metadata": {},
          "execution_count": 17
        }
      ]
    },
    {
      "cell_type": "code",
      "source": [
        "s[0]"
      ],
      "metadata": {
        "colab": {
          "base_uri": "https://localhost:8080/"
        },
        "id": "m7MQPPQVDOOu",
        "outputId": "209e9af4-2362-450f-cef2-cc3899e9158c"
      },
      "execution_count": null,
      "outputs": [
        {
          "output_type": "execute_result",
          "data": {
            "text/plain": [
              "0"
            ]
          },
          "metadata": {},
          "execution_count": 18
        }
      ]
    },
    {
      "cell_type": "code",
      "source": [
        "s[0:5]"
      ],
      "metadata": {
        "colab": {
          "base_uri": "https://localhost:8080/"
        },
        "id": "zLCp6XJnDQwL",
        "outputId": "207aad11-f60b-4a93-c7f5-baf0179f1124"
      },
      "execution_count": null,
      "outputs": [
        {
          "output_type": "execute_result",
          "data": {
            "text/plain": [
              "0    0\n",
              "1    1\n",
              "2    2\n",
              "3    3\n",
              "4    4\n",
              "dtype: int64"
            ]
          },
          "metadata": {},
          "execution_count": 19
        }
      ]
    },
    {
      "cell_type": "code",
      "source": [
        "s[5:9]"
      ],
      "metadata": {
        "colab": {
          "base_uri": "https://localhost:8080/"
        },
        "id": "SfRBsJNkDTQR",
        "outputId": "d108841d-6010-4fce-8279-117fa0466a05"
      },
      "execution_count": null,
      "outputs": [
        {
          "output_type": "execute_result",
          "data": {
            "text/plain": [
              "5    5\n",
              "6    6\n",
              "7    7\n",
              "8    8\n",
              "dtype: int64"
            ]
          },
          "metadata": {},
          "execution_count": 20
        }
      ]
    },
    {
      "cell_type": "code",
      "source": [
        "s[0:-1]"
      ],
      "metadata": {
        "colab": {
          "base_uri": "https://localhost:8080/"
        },
        "id": "9BfbulNTDTWF",
        "outputId": "57f5692b-ca9b-4897-acbd-c0b1fd1a3fe3"
      },
      "execution_count": null,
      "outputs": [
        {
          "output_type": "execute_result",
          "data": {
            "text/plain": [
              "0    0\n",
              "1    1\n",
              "2    2\n",
              "3    3\n",
              "4    4\n",
              "5    5\n",
              "6    6\n",
              "7    7\n",
              "8    8\n",
              "dtype: int64"
            ]
          },
          "metadata": {},
          "execution_count": 21
        }
      ]
    },
    {
      "cell_type": "code",
      "source": [
        "s.where(s%2==0)"
      ],
      "metadata": {
        "colab": {
          "base_uri": "https://localhost:8080/"
        },
        "id": "OAEiix57DZ12",
        "outputId": "1045c5b9-090f-48a1-98b8-b2188d86526e"
      },
      "execution_count": null,
      "outputs": [
        {
          "output_type": "execute_result",
          "data": {
            "text/plain": [
              "0    0.0\n",
              "1    NaN\n",
              "2    2.0\n",
              "3    NaN\n",
              "4    4.0\n",
              "5    NaN\n",
              "6    6.0\n",
              "7    NaN\n",
              "8    8.0\n",
              "9    NaN\n",
              "dtype: float64"
            ]
          },
          "metadata": {},
          "execution_count": 22
        }
      ]
    },
    {
      "cell_type": "code",
      "source": [
        "s.where(s%2==0,s**2)"
      ],
      "metadata": {
        "colab": {
          "base_uri": "https://localhost:8080/"
        },
        "id": "J3YodUeBD19X",
        "outputId": "8385fd8c-6b50-4054-ad8c-527413398b15"
      },
      "execution_count": null,
      "outputs": [
        {
          "output_type": "execute_result",
          "data": {
            "text/plain": [
              "0     0\n",
              "1     1\n",
              "2     2\n",
              "3     9\n",
              "4     4\n",
              "5    25\n",
              "6     6\n",
              "7    49\n",
              "8     8\n",
              "9    81\n",
              "dtype: int64"
            ]
          },
          "metadata": {},
          "execution_count": 24
        }
      ]
    },
    {
      "cell_type": "code",
      "source": [
        "s.where(s%2==0,inplace=True)\n",
        "s"
      ],
      "metadata": {
        "colab": {
          "base_uri": "https://localhost:8080/"
        },
        "id": "isV--FIqD-ig",
        "outputId": "26ea23f0-c122-43d6-c22e-3438e4c15dbb"
      },
      "execution_count": null,
      "outputs": [
        {
          "output_type": "execute_result",
          "data": {
            "text/plain": [
              "0    0.0\n",
              "1    NaN\n",
              "2    2.0\n",
              "3    NaN\n",
              "4    4.0\n",
              "5    NaN\n",
              "6    6.0\n",
              "7    NaN\n",
              "8    8.0\n",
              "9    NaN\n",
              "dtype: float64"
            ]
          },
          "metadata": {},
          "execution_count": 26
        }
      ]
    },
    {
      "cell_type": "code",
      "source": [
        "s.dropna()"
      ],
      "metadata": {
        "colab": {
          "base_uri": "https://localhost:8080/"
        },
        "id": "lJ63nhKGEGnY",
        "outputId": "692e9e7c-e77d-4490-840c-72a5b32c6fec"
      },
      "execution_count": null,
      "outputs": [
        {
          "output_type": "execute_result",
          "data": {
            "text/plain": [
              "0    0.0\n",
              "2    2.0\n",
              "4    4.0\n",
              "6    6.0\n",
              "8    8.0\n",
              "dtype: float64"
            ]
          },
          "metadata": {},
          "execution_count": 27
        }
      ]
    },
    {
      "cell_type": "code",
      "source": [
        "s.fillna('Filled value')"
      ],
      "metadata": {
        "colab": {
          "base_uri": "https://localhost:8080/"
        },
        "id": "KEPb_-BbEayW",
        "outputId": "a0ae3d80-fd74-4c06-ebc6-bab7768fe2ed"
      },
      "execution_count": null,
      "outputs": [
        {
          "output_type": "execute_result",
          "data": {
            "text/plain": [
              "0             0.0\n",
              "1    Filled value\n",
              "2             2.0\n",
              "3    Filled value\n",
              "4             4.0\n",
              "5    Filled value\n",
              "6             6.0\n",
              "7    Filled value\n",
              "8             8.0\n",
              "9    Filled value\n",
              "dtype: object"
            ]
          },
          "metadata": {},
          "execution_count": 28
        }
      ]
    },
    {
      "cell_type": "code",
      "source": [
        "s.where(s%2==0,'Odd Number')"
      ],
      "metadata": {
        "colab": {
          "base_uri": "https://localhost:8080/"
        },
        "id": "0T4ickDjDx7_",
        "outputId": "881e331e-aa8c-4da2-c2bb-a8ee5facfd6c"
      },
      "execution_count": null,
      "outputs": [
        {
          "output_type": "execute_result",
          "data": {
            "text/plain": [
              "0             0\n",
              "1    Odd Number\n",
              "2             2\n",
              "3    Odd Number\n",
              "4             4\n",
              "5    Odd Number\n",
              "6             6\n",
              "7    Odd Number\n",
              "8             8\n",
              "9    Odd Number\n",
              "dtype: object"
            ]
          },
          "metadata": {},
          "execution_count": 23
        }
      ]
    },
    {
      "cell_type": "code",
      "source": [
        "import pandas as pd\n",
        "df = pd.DataFrame()\n",
        "type(df)\n"
      ],
      "metadata": {
        "colab": {
          "base_uri": "https://localhost:8080/"
        },
        "id": "Uvs1M7d2Hpjl",
        "outputId": "bfb14ad1-7811-4ef6-f294-4658d05140cb"
      },
      "execution_count": 31,
      "outputs": [
        {
          "output_type": "execute_result",
          "data": {
            "text/plain": [
              "pandas.core.frame.DataFrame"
            ]
          },
          "metadata": {},
          "execution_count": 31
        }
      ]
    },
    {
      "cell_type": "code",
      "source": [
        "df =pd.read_csv('/content/rainfall.csv')\n",
        "df\n"
      ],
      "metadata": {
        "colab": {
          "base_uri": "https://localhost:8080/",
          "height": 518
        },
        "id": "1Er2eCduIhjV",
        "outputId": "3cac1572-1ebd-4562-c6b2-91d82c55430e"
      },
      "execution_count": 34,
      "outputs": [
        {
          "output_type": "execute_result",
          "data": {
            "text/plain": [
              "             ANDAMAN & NICOBAR ISLANDS  2015  126.80  7.60   3.10  138.20  \\\n",
              "0                    ARUNACHAL PRADESH  1916    48.1  69.8   71.1   316.1   \n",
              "1                    ASSAM & MEGHALAYA  1901    27.1  19.5   30.6   223.0   \n",
              "2               NAGA MANI MIZO TRIPURA  1930    22.6  53.6  107.5   161.0   \n",
              "3   SUB HIMALAYAN WEST BENGAL & SIKKIM  1901    26.5  14.8   14.1    29.2   \n",
              "4                 GANGETIC WEST BENGAL  1966    33.1   4.4    5.1    18.3   \n",
              "5                               ORISSA  1901    39.5  65.1   16.1    51.6   \n",
              "6                            JHARKHAND  1928    51.4  11.8    3.0    26.4   \n",
              "7           HARYANA DELHI & CHANDIGARH  1937     0.8  75.8    5.3    20.3   \n",
              "8                      JAMMU & KASHMIR  1901    66.4  69.3   69.6   132.2   \n",
              "9                    COASTAL KARNATAKA  2015     1.4   1.0   32.3    72.2   \n",
              "10            NORTH INTERIOR KARNATAKA  1901     3.5  18.8    7.1    67.2   \n",
              "11            SOUTH INTERIOR KARNATAKA  2015     1.7   0.2   24.4    80.5   \n",
              "12                              KERALA  1901    28.7  44.7   51.6   160.0   \n",
              "\n",
              "    331.90  346.40  328.90  480.00  523.30  252.10  236.30  129.90  2904.60  \\\n",
              "0    424.6  1124.9     NaN   629.7   333.9     NaN     NaN     NaN      NaN   \n",
              "1    207.0   524.9   430.6   464.1   291.4   163.7   115.6     1.2   2498.6   \n",
              "2    223.1   506.6   438.2   385.6   256.7   100.8   230.7     1.0   2487.4   \n",
              "3    195.5   488.4   524.8   501.1   242.7    55.5    17.9     2.6   2113.2   \n",
              "4     43.4   296.0   168.7   236.6   187.2    84.9    34.7     6.3   1118.7   \n",
              "5     79.0    78.2   288.4   307.7   185.3    76.6    96.7     0.0   1284.2   \n",
              "6     48.1   313.4   396.7   213.7   131.7   183.3     0.1     4.4   1384.0   \n",
              "7      5.2    43.7   171.6    39.3   109.8     0.4     0.3     9.1    481.7   \n",
              "8    105.8    53.4   171.7   181.3   101.8    24.1     0.0     4.4    979.9   \n",
              "9    150.3   735.3   930.9   575.2   260.3   208.5   124.2    14.3   3106.0   \n",
              "10    65.5   120.5   151.9   115.1   128.8    80.0    13.6     0.9    773.0   \n",
              "11   125.3   218.7   112.0   136.6   164.5   106.1   138.1     4.4   1112.5   \n",
              "12   174.7   824.6   743.0   357.5   197.7   266.9   350.8    48.4   3248.6   \n",
              "\n",
              "    134.40  473.20  1678.60  618.40  \n",
              "0    117.9   811.8      NaN     NaN  \n",
              "1     46.6   460.5   1710.9   280.5  \n",
              "2     76.3   491.6   1587.0   332.5  \n",
              "3     41.3   238.9   1757.0    76.1  \n",
              "4     37.5    66.8    888.5   125.9  \n",
              "5    104.6   146.7    859.6   173.3  \n",
              "6     63.2    77.4   1055.5   187.8  \n",
              "7     76.7    30.8    364.4     9.8  \n",
              "8    135.6   307.6    508.2    28.5  \n",
              "9      2.4   254.8   2501.8   347.1  \n",
              "10    22.3   139.8    516.4    94.5  \n",
              "11     1.9   230.2    631.8   248.6  \n",
              "12    73.4   386.2   2122.8   666.1  "
            ],
            "text/html": [
              "\n",
              "  <div id=\"df-81bbd7d3-cb7a-472f-9f8f-68b61d5cdb5a\">\n",
              "    <div class=\"colab-df-container\">\n",
              "      <div>\n",
              "<style scoped>\n",
              "    .dataframe tbody tr th:only-of-type {\n",
              "        vertical-align: middle;\n",
              "    }\n",
              "\n",
              "    .dataframe tbody tr th {\n",
              "        vertical-align: top;\n",
              "    }\n",
              "\n",
              "    .dataframe thead th {\n",
              "        text-align: right;\n",
              "    }\n",
              "</style>\n",
              "<table border=\"1\" class=\"dataframe\">\n",
              "  <thead>\n",
              "    <tr style=\"text-align: right;\">\n",
              "      <th></th>\n",
              "      <th>ANDAMAN &amp; NICOBAR ISLANDS</th>\n",
              "      <th>2015</th>\n",
              "      <th>126.80</th>\n",
              "      <th>7.60</th>\n",
              "      <th>3.10</th>\n",
              "      <th>138.20</th>\n",
              "      <th>331.90</th>\n",
              "      <th>346.40</th>\n",
              "      <th>328.90</th>\n",
              "      <th>480.00</th>\n",
              "      <th>523.30</th>\n",
              "      <th>252.10</th>\n",
              "      <th>236.30</th>\n",
              "      <th>129.90</th>\n",
              "      <th>2904.60</th>\n",
              "      <th>134.40</th>\n",
              "      <th>473.20</th>\n",
              "      <th>1678.60</th>\n",
              "      <th>618.40</th>\n",
              "    </tr>\n",
              "  </thead>\n",
              "  <tbody>\n",
              "    <tr>\n",
              "      <th>0</th>\n",
              "      <td>ARUNACHAL PRADESH</td>\n",
              "      <td>1916</td>\n",
              "      <td>48.1</td>\n",
              "      <td>69.8</td>\n",
              "      <td>71.1</td>\n",
              "      <td>316.1</td>\n",
              "      <td>424.6</td>\n",
              "      <td>1124.9</td>\n",
              "      <td>NaN</td>\n",
              "      <td>629.7</td>\n",
              "      <td>333.9</td>\n",
              "      <td>NaN</td>\n",
              "      <td>NaN</td>\n",
              "      <td>NaN</td>\n",
              "      <td>NaN</td>\n",
              "      <td>117.9</td>\n",
              "      <td>811.8</td>\n",
              "      <td>NaN</td>\n",
              "      <td>NaN</td>\n",
              "    </tr>\n",
              "    <tr>\n",
              "      <th>1</th>\n",
              "      <td>ASSAM &amp; MEGHALAYA</td>\n",
              "      <td>1901</td>\n",
              "      <td>27.1</td>\n",
              "      <td>19.5</td>\n",
              "      <td>30.6</td>\n",
              "      <td>223.0</td>\n",
              "      <td>207.0</td>\n",
              "      <td>524.9</td>\n",
              "      <td>430.6</td>\n",
              "      <td>464.1</td>\n",
              "      <td>291.4</td>\n",
              "      <td>163.7</td>\n",
              "      <td>115.6</td>\n",
              "      <td>1.2</td>\n",
              "      <td>2498.6</td>\n",
              "      <td>46.6</td>\n",
              "      <td>460.5</td>\n",
              "      <td>1710.9</td>\n",
              "      <td>280.5</td>\n",
              "    </tr>\n",
              "    <tr>\n",
              "      <th>2</th>\n",
              "      <td>NAGA MANI MIZO TRIPURA</td>\n",
              "      <td>1930</td>\n",
              "      <td>22.6</td>\n",
              "      <td>53.6</td>\n",
              "      <td>107.5</td>\n",
              "      <td>161.0</td>\n",
              "      <td>223.1</td>\n",
              "      <td>506.6</td>\n",
              "      <td>438.2</td>\n",
              "      <td>385.6</td>\n",
              "      <td>256.7</td>\n",
              "      <td>100.8</td>\n",
              "      <td>230.7</td>\n",
              "      <td>1.0</td>\n",
              "      <td>2487.4</td>\n",
              "      <td>76.3</td>\n",
              "      <td>491.6</td>\n",
              "      <td>1587.0</td>\n",
              "      <td>332.5</td>\n",
              "    </tr>\n",
              "    <tr>\n",
              "      <th>3</th>\n",
              "      <td>SUB HIMALAYAN WEST BENGAL &amp; SIKKIM</td>\n",
              "      <td>1901</td>\n",
              "      <td>26.5</td>\n",
              "      <td>14.8</td>\n",
              "      <td>14.1</td>\n",
              "      <td>29.2</td>\n",
              "      <td>195.5</td>\n",
              "      <td>488.4</td>\n",
              "      <td>524.8</td>\n",
              "      <td>501.1</td>\n",
              "      <td>242.7</td>\n",
              "      <td>55.5</td>\n",
              "      <td>17.9</td>\n",
              "      <td>2.6</td>\n",
              "      <td>2113.2</td>\n",
              "      <td>41.3</td>\n",
              "      <td>238.9</td>\n",
              "      <td>1757.0</td>\n",
              "      <td>76.1</td>\n",
              "    </tr>\n",
              "    <tr>\n",
              "      <th>4</th>\n",
              "      <td>GANGETIC WEST BENGAL</td>\n",
              "      <td>1966</td>\n",
              "      <td>33.1</td>\n",
              "      <td>4.4</td>\n",
              "      <td>5.1</td>\n",
              "      <td>18.3</td>\n",
              "      <td>43.4</td>\n",
              "      <td>296.0</td>\n",
              "      <td>168.7</td>\n",
              "      <td>236.6</td>\n",
              "      <td>187.2</td>\n",
              "      <td>84.9</td>\n",
              "      <td>34.7</td>\n",
              "      <td>6.3</td>\n",
              "      <td>1118.7</td>\n",
              "      <td>37.5</td>\n",
              "      <td>66.8</td>\n",
              "      <td>888.5</td>\n",
              "      <td>125.9</td>\n",
              "    </tr>\n",
              "    <tr>\n",
              "      <th>5</th>\n",
              "      <td>ORISSA</td>\n",
              "      <td>1901</td>\n",
              "      <td>39.5</td>\n",
              "      <td>65.1</td>\n",
              "      <td>16.1</td>\n",
              "      <td>51.6</td>\n",
              "      <td>79.0</td>\n",
              "      <td>78.2</td>\n",
              "      <td>288.4</td>\n",
              "      <td>307.7</td>\n",
              "      <td>185.3</td>\n",
              "      <td>76.6</td>\n",
              "      <td>96.7</td>\n",
              "      <td>0.0</td>\n",
              "      <td>1284.2</td>\n",
              "      <td>104.6</td>\n",
              "      <td>146.7</td>\n",
              "      <td>859.6</td>\n",
              "      <td>173.3</td>\n",
              "    </tr>\n",
              "    <tr>\n",
              "      <th>6</th>\n",
              "      <td>JHARKHAND</td>\n",
              "      <td>1928</td>\n",
              "      <td>51.4</td>\n",
              "      <td>11.8</td>\n",
              "      <td>3.0</td>\n",
              "      <td>26.4</td>\n",
              "      <td>48.1</td>\n",
              "      <td>313.4</td>\n",
              "      <td>396.7</td>\n",
              "      <td>213.7</td>\n",
              "      <td>131.7</td>\n",
              "      <td>183.3</td>\n",
              "      <td>0.1</td>\n",
              "      <td>4.4</td>\n",
              "      <td>1384.0</td>\n",
              "      <td>63.2</td>\n",
              "      <td>77.4</td>\n",
              "      <td>1055.5</td>\n",
              "      <td>187.8</td>\n",
              "    </tr>\n",
              "    <tr>\n",
              "      <th>7</th>\n",
              "      <td>HARYANA DELHI &amp; CHANDIGARH</td>\n",
              "      <td>1937</td>\n",
              "      <td>0.8</td>\n",
              "      <td>75.8</td>\n",
              "      <td>5.3</td>\n",
              "      <td>20.3</td>\n",
              "      <td>5.2</td>\n",
              "      <td>43.7</td>\n",
              "      <td>171.6</td>\n",
              "      <td>39.3</td>\n",
              "      <td>109.8</td>\n",
              "      <td>0.4</td>\n",
              "      <td>0.3</td>\n",
              "      <td>9.1</td>\n",
              "      <td>481.7</td>\n",
              "      <td>76.7</td>\n",
              "      <td>30.8</td>\n",
              "      <td>364.4</td>\n",
              "      <td>9.8</td>\n",
              "    </tr>\n",
              "    <tr>\n",
              "      <th>8</th>\n",
              "      <td>JAMMU &amp; KASHMIR</td>\n",
              "      <td>1901</td>\n",
              "      <td>66.4</td>\n",
              "      <td>69.3</td>\n",
              "      <td>69.6</td>\n",
              "      <td>132.2</td>\n",
              "      <td>105.8</td>\n",
              "      <td>53.4</td>\n",
              "      <td>171.7</td>\n",
              "      <td>181.3</td>\n",
              "      <td>101.8</td>\n",
              "      <td>24.1</td>\n",
              "      <td>0.0</td>\n",
              "      <td>4.4</td>\n",
              "      <td>979.9</td>\n",
              "      <td>135.6</td>\n",
              "      <td>307.6</td>\n",
              "      <td>508.2</td>\n",
              "      <td>28.5</td>\n",
              "    </tr>\n",
              "    <tr>\n",
              "      <th>9</th>\n",
              "      <td>COASTAL KARNATAKA</td>\n",
              "      <td>2015</td>\n",
              "      <td>1.4</td>\n",
              "      <td>1.0</td>\n",
              "      <td>32.3</td>\n",
              "      <td>72.2</td>\n",
              "      <td>150.3</td>\n",
              "      <td>735.3</td>\n",
              "      <td>930.9</td>\n",
              "      <td>575.2</td>\n",
              "      <td>260.3</td>\n",
              "      <td>208.5</td>\n",
              "      <td>124.2</td>\n",
              "      <td>14.3</td>\n",
              "      <td>3106.0</td>\n",
              "      <td>2.4</td>\n",
              "      <td>254.8</td>\n",
              "      <td>2501.8</td>\n",
              "      <td>347.1</td>\n",
              "    </tr>\n",
              "    <tr>\n",
              "      <th>10</th>\n",
              "      <td>NORTH INTERIOR KARNATAKA</td>\n",
              "      <td>1901</td>\n",
              "      <td>3.5</td>\n",
              "      <td>18.8</td>\n",
              "      <td>7.1</td>\n",
              "      <td>67.2</td>\n",
              "      <td>65.5</td>\n",
              "      <td>120.5</td>\n",
              "      <td>151.9</td>\n",
              "      <td>115.1</td>\n",
              "      <td>128.8</td>\n",
              "      <td>80.0</td>\n",
              "      <td>13.6</td>\n",
              "      <td>0.9</td>\n",
              "      <td>773.0</td>\n",
              "      <td>22.3</td>\n",
              "      <td>139.8</td>\n",
              "      <td>516.4</td>\n",
              "      <td>94.5</td>\n",
              "    </tr>\n",
              "    <tr>\n",
              "      <th>11</th>\n",
              "      <td>SOUTH INTERIOR KARNATAKA</td>\n",
              "      <td>2015</td>\n",
              "      <td>1.7</td>\n",
              "      <td>0.2</td>\n",
              "      <td>24.4</td>\n",
              "      <td>80.5</td>\n",
              "      <td>125.3</td>\n",
              "      <td>218.7</td>\n",
              "      <td>112.0</td>\n",
              "      <td>136.6</td>\n",
              "      <td>164.5</td>\n",
              "      <td>106.1</td>\n",
              "      <td>138.1</td>\n",
              "      <td>4.4</td>\n",
              "      <td>1112.5</td>\n",
              "      <td>1.9</td>\n",
              "      <td>230.2</td>\n",
              "      <td>631.8</td>\n",
              "      <td>248.6</td>\n",
              "    </tr>\n",
              "    <tr>\n",
              "      <th>12</th>\n",
              "      <td>KERALA</td>\n",
              "      <td>1901</td>\n",
              "      <td>28.7</td>\n",
              "      <td>44.7</td>\n",
              "      <td>51.6</td>\n",
              "      <td>160.0</td>\n",
              "      <td>174.7</td>\n",
              "      <td>824.6</td>\n",
              "      <td>743.0</td>\n",
              "      <td>357.5</td>\n",
              "      <td>197.7</td>\n",
              "      <td>266.9</td>\n",
              "      <td>350.8</td>\n",
              "      <td>48.4</td>\n",
              "      <td>3248.6</td>\n",
              "      <td>73.4</td>\n",
              "      <td>386.2</td>\n",
              "      <td>2122.8</td>\n",
              "      <td>666.1</td>\n",
              "    </tr>\n",
              "  </tbody>\n",
              "</table>\n",
              "</div>\n",
              "      <button class=\"colab-df-convert\" onclick=\"convertToInteractive('df-81bbd7d3-cb7a-472f-9f8f-68b61d5cdb5a')\"\n",
              "              title=\"Convert this dataframe to an interactive table.\"\n",
              "              style=\"display:none;\">\n",
              "        \n",
              "  <svg xmlns=\"http://www.w3.org/2000/svg\" height=\"24px\"viewBox=\"0 0 24 24\"\n",
              "       width=\"24px\">\n",
              "    <path d=\"M0 0h24v24H0V0z\" fill=\"none\"/>\n",
              "    <path d=\"M18.56 5.44l.94 2.06.94-2.06 2.06-.94-2.06-.94-.94-2.06-.94 2.06-2.06.94zm-11 1L8.5 8.5l.94-2.06 2.06-.94-2.06-.94L8.5 2.5l-.94 2.06-2.06.94zm10 10l.94 2.06.94-2.06 2.06-.94-2.06-.94-.94-2.06-.94 2.06-2.06.94z\"/><path d=\"M17.41 7.96l-1.37-1.37c-.4-.4-.92-.59-1.43-.59-.52 0-1.04.2-1.43.59L10.3 9.45l-7.72 7.72c-.78.78-.78 2.05 0 2.83L4 21.41c.39.39.9.59 1.41.59.51 0 1.02-.2 1.41-.59l7.78-7.78 2.81-2.81c.8-.78.8-2.07 0-2.86zM5.41 20L4 18.59l7.72-7.72 1.47 1.35L5.41 20z\"/>\n",
              "  </svg>\n",
              "      </button>\n",
              "      \n",
              "  <style>\n",
              "    .colab-df-container {\n",
              "      display:flex;\n",
              "      flex-wrap:wrap;\n",
              "      gap: 12px;\n",
              "    }\n",
              "\n",
              "    .colab-df-convert {\n",
              "      background-color: #E8F0FE;\n",
              "      border: none;\n",
              "      border-radius: 50%;\n",
              "      cursor: pointer;\n",
              "      display: none;\n",
              "      fill: #1967D2;\n",
              "      height: 32px;\n",
              "      padding: 0 0 0 0;\n",
              "      width: 32px;\n",
              "    }\n",
              "\n",
              "    .colab-df-convert:hover {\n",
              "      background-color: #E2EBFA;\n",
              "      box-shadow: 0px 1px 2px rgba(60, 64, 67, 0.3), 0px 1px 3px 1px rgba(60, 64, 67, 0.15);\n",
              "      fill: #174EA6;\n",
              "    }\n",
              "\n",
              "    [theme=dark] .colab-df-convert {\n",
              "      background-color: #3B4455;\n",
              "      fill: #D2E3FC;\n",
              "    }\n",
              "\n",
              "    [theme=dark] .colab-df-convert:hover {\n",
              "      background-color: #434B5C;\n",
              "      box-shadow: 0px 1px 3px 1px rgba(0, 0, 0, 0.15);\n",
              "      filter: drop-shadow(0px 1px 2px rgba(0, 0, 0, 0.3));\n",
              "      fill: #FFFFFF;\n",
              "    }\n",
              "  </style>\n",
              "\n",
              "      <script>\n",
              "        const buttonEl =\n",
              "          document.querySelector('#df-81bbd7d3-cb7a-472f-9f8f-68b61d5cdb5a button.colab-df-convert');\n",
              "        buttonEl.style.display =\n",
              "          google.colab.kernel.accessAllowed ? 'block' : 'none';\n",
              "\n",
              "        async function convertToInteractive(key) {\n",
              "          const element = document.querySelector('#df-81bbd7d3-cb7a-472f-9f8f-68b61d5cdb5a');\n",
              "          const dataTable =\n",
              "            await google.colab.kernel.invokeFunction('convertToInteractive',\n",
              "                                                     [key], {});\n",
              "          if (!dataTable) return;\n",
              "\n",
              "          const docLinkHtml = 'Like what you see? Visit the ' +\n",
              "            '<a target=\"_blank\" href=https://colab.research.google.com/notebooks/data_table.ipynb>data table notebook</a>'\n",
              "            + ' to learn more about interactive tables.';\n",
              "          element.innerHTML = '';\n",
              "          dataTable['output_type'] = 'display_data';\n",
              "          await google.colab.output.renderOutput(dataTable, element);\n",
              "          const docLink = document.createElement('div');\n",
              "          docLink.innerHTML = docLinkHtml;\n",
              "          element.appendChild(docLink);\n",
              "        }\n",
              "      </script>\n",
              "    </div>\n",
              "  </div>\n",
              "  "
            ]
          },
          "metadata": {},
          "execution_count": 34
        }
      ]
    },
    {
      "cell_type": "code",
      "source": [
        "df.head(2)"
      ],
      "metadata": {
        "colab": {
          "base_uri": "https://localhost:8080/",
          "height": 112
        },
        "id": "Qq5b2up5JIbe",
        "outputId": "4b2f1854-0b95-47a2-f4f4-f6ea398539a8"
      },
      "execution_count": 35,
      "outputs": [
        {
          "output_type": "execute_result",
          "data": {
            "text/plain": [
              "  ANDAMAN & NICOBAR ISLANDS  2015  126.80  7.60  3.10  138.20  331.90  346.40  \\\n",
              "0         ARUNACHAL PRADESH  1916    48.1  69.8  71.1   316.1   424.6  1124.9   \n",
              "1         ASSAM & MEGHALAYA  1901    27.1  19.5  30.6   223.0   207.0   524.9   \n",
              "\n",
              "   328.90  480.00  523.30  252.10  236.30  129.90  2904.60  134.40  473.20  \\\n",
              "0     NaN   629.7   333.9     NaN     NaN     NaN      NaN   117.9   811.8   \n",
              "1   430.6   464.1   291.4   163.7   115.6     1.2   2498.6    46.6   460.5   \n",
              "\n",
              "   1678.60  618.40  \n",
              "0      NaN     NaN  \n",
              "1   1710.9   280.5  "
            ],
            "text/html": [
              "\n",
              "  <div id=\"df-da535bb3-28b7-4680-be18-1a19e1a8c382\">\n",
              "    <div class=\"colab-df-container\">\n",
              "      <div>\n",
              "<style scoped>\n",
              "    .dataframe tbody tr th:only-of-type {\n",
              "        vertical-align: middle;\n",
              "    }\n",
              "\n",
              "    .dataframe tbody tr th {\n",
              "        vertical-align: top;\n",
              "    }\n",
              "\n",
              "    .dataframe thead th {\n",
              "        text-align: right;\n",
              "    }\n",
              "</style>\n",
              "<table border=\"1\" class=\"dataframe\">\n",
              "  <thead>\n",
              "    <tr style=\"text-align: right;\">\n",
              "      <th></th>\n",
              "      <th>ANDAMAN &amp; NICOBAR ISLANDS</th>\n",
              "      <th>2015</th>\n",
              "      <th>126.80</th>\n",
              "      <th>7.60</th>\n",
              "      <th>3.10</th>\n",
              "      <th>138.20</th>\n",
              "      <th>331.90</th>\n",
              "      <th>346.40</th>\n",
              "      <th>328.90</th>\n",
              "      <th>480.00</th>\n",
              "      <th>523.30</th>\n",
              "      <th>252.10</th>\n",
              "      <th>236.30</th>\n",
              "      <th>129.90</th>\n",
              "      <th>2904.60</th>\n",
              "      <th>134.40</th>\n",
              "      <th>473.20</th>\n",
              "      <th>1678.60</th>\n",
              "      <th>618.40</th>\n",
              "    </tr>\n",
              "  </thead>\n",
              "  <tbody>\n",
              "    <tr>\n",
              "      <th>0</th>\n",
              "      <td>ARUNACHAL PRADESH</td>\n",
              "      <td>1916</td>\n",
              "      <td>48.1</td>\n",
              "      <td>69.8</td>\n",
              "      <td>71.1</td>\n",
              "      <td>316.1</td>\n",
              "      <td>424.6</td>\n",
              "      <td>1124.9</td>\n",
              "      <td>NaN</td>\n",
              "      <td>629.7</td>\n",
              "      <td>333.9</td>\n",
              "      <td>NaN</td>\n",
              "      <td>NaN</td>\n",
              "      <td>NaN</td>\n",
              "      <td>NaN</td>\n",
              "      <td>117.9</td>\n",
              "      <td>811.8</td>\n",
              "      <td>NaN</td>\n",
              "      <td>NaN</td>\n",
              "    </tr>\n",
              "    <tr>\n",
              "      <th>1</th>\n",
              "      <td>ASSAM &amp; MEGHALAYA</td>\n",
              "      <td>1901</td>\n",
              "      <td>27.1</td>\n",
              "      <td>19.5</td>\n",
              "      <td>30.6</td>\n",
              "      <td>223.0</td>\n",
              "      <td>207.0</td>\n",
              "      <td>524.9</td>\n",
              "      <td>430.6</td>\n",
              "      <td>464.1</td>\n",
              "      <td>291.4</td>\n",
              "      <td>163.7</td>\n",
              "      <td>115.6</td>\n",
              "      <td>1.2</td>\n",
              "      <td>2498.6</td>\n",
              "      <td>46.6</td>\n",
              "      <td>460.5</td>\n",
              "      <td>1710.9</td>\n",
              "      <td>280.5</td>\n",
              "    </tr>\n",
              "  </tbody>\n",
              "</table>\n",
              "</div>\n",
              "      <button class=\"colab-df-convert\" onclick=\"convertToInteractive('df-da535bb3-28b7-4680-be18-1a19e1a8c382')\"\n",
              "              title=\"Convert this dataframe to an interactive table.\"\n",
              "              style=\"display:none;\">\n",
              "        \n",
              "  <svg xmlns=\"http://www.w3.org/2000/svg\" height=\"24px\"viewBox=\"0 0 24 24\"\n",
              "       width=\"24px\">\n",
              "    <path d=\"M0 0h24v24H0V0z\" fill=\"none\"/>\n",
              "    <path d=\"M18.56 5.44l.94 2.06.94-2.06 2.06-.94-2.06-.94-.94-2.06-.94 2.06-2.06.94zm-11 1L8.5 8.5l.94-2.06 2.06-.94-2.06-.94L8.5 2.5l-.94 2.06-2.06.94zm10 10l.94 2.06.94-2.06 2.06-.94-2.06-.94-.94-2.06-.94 2.06-2.06.94z\"/><path d=\"M17.41 7.96l-1.37-1.37c-.4-.4-.92-.59-1.43-.59-.52 0-1.04.2-1.43.59L10.3 9.45l-7.72 7.72c-.78.78-.78 2.05 0 2.83L4 21.41c.39.39.9.59 1.41.59.51 0 1.02-.2 1.41-.59l7.78-7.78 2.81-2.81c.8-.78.8-2.07 0-2.86zM5.41 20L4 18.59l7.72-7.72 1.47 1.35L5.41 20z\"/>\n",
              "  </svg>\n",
              "      </button>\n",
              "      \n",
              "  <style>\n",
              "    .colab-df-container {\n",
              "      display:flex;\n",
              "      flex-wrap:wrap;\n",
              "      gap: 12px;\n",
              "    }\n",
              "\n",
              "    .colab-df-convert {\n",
              "      background-color: #E8F0FE;\n",
              "      border: none;\n",
              "      border-radius: 50%;\n",
              "      cursor: pointer;\n",
              "      display: none;\n",
              "      fill: #1967D2;\n",
              "      height: 32px;\n",
              "      padding: 0 0 0 0;\n",
              "      width: 32px;\n",
              "    }\n",
              "\n",
              "    .colab-df-convert:hover {\n",
              "      background-color: #E2EBFA;\n",
              "      box-shadow: 0px 1px 2px rgba(60, 64, 67, 0.3), 0px 1px 3px 1px rgba(60, 64, 67, 0.15);\n",
              "      fill: #174EA6;\n",
              "    }\n",
              "\n",
              "    [theme=dark] .colab-df-convert {\n",
              "      background-color: #3B4455;\n",
              "      fill: #D2E3FC;\n",
              "    }\n",
              "\n",
              "    [theme=dark] .colab-df-convert:hover {\n",
              "      background-color: #434B5C;\n",
              "      box-shadow: 0px 1px 3px 1px rgba(0, 0, 0, 0.15);\n",
              "      filter: drop-shadow(0px 1px 2px rgba(0, 0, 0, 0.3));\n",
              "      fill: #FFFFFF;\n",
              "    }\n",
              "  </style>\n",
              "\n",
              "      <script>\n",
              "        const buttonEl =\n",
              "          document.querySelector('#df-da535bb3-28b7-4680-be18-1a19e1a8c382 button.colab-df-convert');\n",
              "        buttonEl.style.display =\n",
              "          google.colab.kernel.accessAllowed ? 'block' : 'none';\n",
              "\n",
              "        async function convertToInteractive(key) {\n",
              "          const element = document.querySelector('#df-da535bb3-28b7-4680-be18-1a19e1a8c382');\n",
              "          const dataTable =\n",
              "            await google.colab.kernel.invokeFunction('convertToInteractive',\n",
              "                                                     [key], {});\n",
              "          if (!dataTable) return;\n",
              "\n",
              "          const docLinkHtml = 'Like what you see? Visit the ' +\n",
              "            '<a target=\"_blank\" href=https://colab.research.google.com/notebooks/data_table.ipynb>data table notebook</a>'\n",
              "            + ' to learn more about interactive tables.';\n",
              "          element.innerHTML = '';\n",
              "          dataTable['output_type'] = 'display_data';\n",
              "          await google.colab.output.renderOutput(dataTable, element);\n",
              "          const docLink = document.createElement('div');\n",
              "          docLink.innerHTML = docLinkHtml;\n",
              "          element.appendChild(docLink);\n",
              "        }\n",
              "      </script>\n",
              "    </div>\n",
              "  </div>\n",
              "  "
            ]
          },
          "metadata": {},
          "execution_count": 35
        }
      ]
    },
    {
      "cell_type": "code",
      "source": [
        "df.tail(3)"
      ],
      "metadata": {
        "colab": {
          "base_uri": "https://localhost:8080/",
          "height": 143
        },
        "id": "LKJSYgOcJZ2h",
        "outputId": "d38d89ff-ddbf-4dfa-d5ca-e6ad3186c699"
      },
      "execution_count": 36,
      "outputs": [
        {
          "output_type": "execute_result",
          "data": {
            "text/plain": [
              "   ANDAMAN & NICOBAR ISLANDS  2015  126.80  7.60  3.10  138.20  331.90  \\\n",
              "10  NORTH INTERIOR KARNATAKA  1901     3.5  18.8   7.1    67.2    65.5   \n",
              "11  SOUTH INTERIOR KARNATAKA  2015     1.7   0.2  24.4    80.5   125.3   \n",
              "12                    KERALA  1901    28.7  44.7  51.6   160.0   174.7   \n",
              "\n",
              "    346.40  328.90  480.00  523.30  252.10  236.30  129.90  2904.60  134.40  \\\n",
              "10   120.5   151.9   115.1   128.8    80.0    13.6     0.9    773.0    22.3   \n",
              "11   218.7   112.0   136.6   164.5   106.1   138.1     4.4   1112.5     1.9   \n",
              "12   824.6   743.0   357.5   197.7   266.9   350.8    48.4   3248.6    73.4   \n",
              "\n",
              "    473.20  1678.60  618.40  \n",
              "10   139.8    516.4    94.5  \n",
              "11   230.2    631.8   248.6  \n",
              "12   386.2   2122.8   666.1  "
            ],
            "text/html": [
              "\n",
              "  <div id=\"df-38451032-a008-418a-9692-573700e92370\">\n",
              "    <div class=\"colab-df-container\">\n",
              "      <div>\n",
              "<style scoped>\n",
              "    .dataframe tbody tr th:only-of-type {\n",
              "        vertical-align: middle;\n",
              "    }\n",
              "\n",
              "    .dataframe tbody tr th {\n",
              "        vertical-align: top;\n",
              "    }\n",
              "\n",
              "    .dataframe thead th {\n",
              "        text-align: right;\n",
              "    }\n",
              "</style>\n",
              "<table border=\"1\" class=\"dataframe\">\n",
              "  <thead>\n",
              "    <tr style=\"text-align: right;\">\n",
              "      <th></th>\n",
              "      <th>ANDAMAN &amp; NICOBAR ISLANDS</th>\n",
              "      <th>2015</th>\n",
              "      <th>126.80</th>\n",
              "      <th>7.60</th>\n",
              "      <th>3.10</th>\n",
              "      <th>138.20</th>\n",
              "      <th>331.90</th>\n",
              "      <th>346.40</th>\n",
              "      <th>328.90</th>\n",
              "      <th>480.00</th>\n",
              "      <th>523.30</th>\n",
              "      <th>252.10</th>\n",
              "      <th>236.30</th>\n",
              "      <th>129.90</th>\n",
              "      <th>2904.60</th>\n",
              "      <th>134.40</th>\n",
              "      <th>473.20</th>\n",
              "      <th>1678.60</th>\n",
              "      <th>618.40</th>\n",
              "    </tr>\n",
              "  </thead>\n",
              "  <tbody>\n",
              "    <tr>\n",
              "      <th>10</th>\n",
              "      <td>NORTH INTERIOR KARNATAKA</td>\n",
              "      <td>1901</td>\n",
              "      <td>3.5</td>\n",
              "      <td>18.8</td>\n",
              "      <td>7.1</td>\n",
              "      <td>67.2</td>\n",
              "      <td>65.5</td>\n",
              "      <td>120.5</td>\n",
              "      <td>151.9</td>\n",
              "      <td>115.1</td>\n",
              "      <td>128.8</td>\n",
              "      <td>80.0</td>\n",
              "      <td>13.6</td>\n",
              "      <td>0.9</td>\n",
              "      <td>773.0</td>\n",
              "      <td>22.3</td>\n",
              "      <td>139.8</td>\n",
              "      <td>516.4</td>\n",
              "      <td>94.5</td>\n",
              "    </tr>\n",
              "    <tr>\n",
              "      <th>11</th>\n",
              "      <td>SOUTH INTERIOR KARNATAKA</td>\n",
              "      <td>2015</td>\n",
              "      <td>1.7</td>\n",
              "      <td>0.2</td>\n",
              "      <td>24.4</td>\n",
              "      <td>80.5</td>\n",
              "      <td>125.3</td>\n",
              "      <td>218.7</td>\n",
              "      <td>112.0</td>\n",
              "      <td>136.6</td>\n",
              "      <td>164.5</td>\n",
              "      <td>106.1</td>\n",
              "      <td>138.1</td>\n",
              "      <td>4.4</td>\n",
              "      <td>1112.5</td>\n",
              "      <td>1.9</td>\n",
              "      <td>230.2</td>\n",
              "      <td>631.8</td>\n",
              "      <td>248.6</td>\n",
              "    </tr>\n",
              "    <tr>\n",
              "      <th>12</th>\n",
              "      <td>KERALA</td>\n",
              "      <td>1901</td>\n",
              "      <td>28.7</td>\n",
              "      <td>44.7</td>\n",
              "      <td>51.6</td>\n",
              "      <td>160.0</td>\n",
              "      <td>174.7</td>\n",
              "      <td>824.6</td>\n",
              "      <td>743.0</td>\n",
              "      <td>357.5</td>\n",
              "      <td>197.7</td>\n",
              "      <td>266.9</td>\n",
              "      <td>350.8</td>\n",
              "      <td>48.4</td>\n",
              "      <td>3248.6</td>\n",
              "      <td>73.4</td>\n",
              "      <td>386.2</td>\n",
              "      <td>2122.8</td>\n",
              "      <td>666.1</td>\n",
              "    </tr>\n",
              "  </tbody>\n",
              "</table>\n",
              "</div>\n",
              "      <button class=\"colab-df-convert\" onclick=\"convertToInteractive('df-38451032-a008-418a-9692-573700e92370')\"\n",
              "              title=\"Convert this dataframe to an interactive table.\"\n",
              "              style=\"display:none;\">\n",
              "        \n",
              "  <svg xmlns=\"http://www.w3.org/2000/svg\" height=\"24px\"viewBox=\"0 0 24 24\"\n",
              "       width=\"24px\">\n",
              "    <path d=\"M0 0h24v24H0V0z\" fill=\"none\"/>\n",
              "    <path d=\"M18.56 5.44l.94 2.06.94-2.06 2.06-.94-2.06-.94-.94-2.06-.94 2.06-2.06.94zm-11 1L8.5 8.5l.94-2.06 2.06-.94-2.06-.94L8.5 2.5l-.94 2.06-2.06.94zm10 10l.94 2.06.94-2.06 2.06-.94-2.06-.94-.94-2.06-.94 2.06-2.06.94z\"/><path d=\"M17.41 7.96l-1.37-1.37c-.4-.4-.92-.59-1.43-.59-.52 0-1.04.2-1.43.59L10.3 9.45l-7.72 7.72c-.78.78-.78 2.05 0 2.83L4 21.41c.39.39.9.59 1.41.59.51 0 1.02-.2 1.41-.59l7.78-7.78 2.81-2.81c.8-.78.8-2.07 0-2.86zM5.41 20L4 18.59l7.72-7.72 1.47 1.35L5.41 20z\"/>\n",
              "  </svg>\n",
              "      </button>\n",
              "      \n",
              "  <style>\n",
              "    .colab-df-container {\n",
              "      display:flex;\n",
              "      flex-wrap:wrap;\n",
              "      gap: 12px;\n",
              "    }\n",
              "\n",
              "    .colab-df-convert {\n",
              "      background-color: #E8F0FE;\n",
              "      border: none;\n",
              "      border-radius: 50%;\n",
              "      cursor: pointer;\n",
              "      display: none;\n",
              "      fill: #1967D2;\n",
              "      height: 32px;\n",
              "      padding: 0 0 0 0;\n",
              "      width: 32px;\n",
              "    }\n",
              "\n",
              "    .colab-df-convert:hover {\n",
              "      background-color: #E2EBFA;\n",
              "      box-shadow: 0px 1px 2px rgba(60, 64, 67, 0.3), 0px 1px 3px 1px rgba(60, 64, 67, 0.15);\n",
              "      fill: #174EA6;\n",
              "    }\n",
              "\n",
              "    [theme=dark] .colab-df-convert {\n",
              "      background-color: #3B4455;\n",
              "      fill: #D2E3FC;\n",
              "    }\n",
              "\n",
              "    [theme=dark] .colab-df-convert:hover {\n",
              "      background-color: #434B5C;\n",
              "      box-shadow: 0px 1px 3px 1px rgba(0, 0, 0, 0.15);\n",
              "      filter: drop-shadow(0px 1px 2px rgba(0, 0, 0, 0.3));\n",
              "      fill: #FFFFFF;\n",
              "    }\n",
              "  </style>\n",
              "\n",
              "      <script>\n",
              "        const buttonEl =\n",
              "          document.querySelector('#df-38451032-a008-418a-9692-573700e92370 button.colab-df-convert');\n",
              "        buttonEl.style.display =\n",
              "          google.colab.kernel.accessAllowed ? 'block' : 'none';\n",
              "\n",
              "        async function convertToInteractive(key) {\n",
              "          const element = document.querySelector('#df-38451032-a008-418a-9692-573700e92370');\n",
              "          const dataTable =\n",
              "            await google.colab.kernel.invokeFunction('convertToInteractive',\n",
              "                                                     [key], {});\n",
              "          if (!dataTable) return;\n",
              "\n",
              "          const docLinkHtml = 'Like what you see? Visit the ' +\n",
              "            '<a target=\"_blank\" href=https://colab.research.google.com/notebooks/data_table.ipynb>data table notebook</a>'\n",
              "            + ' to learn more about interactive tables.';\n",
              "          element.innerHTML = '';\n",
              "          dataTable['output_type'] = 'display_data';\n",
              "          await google.colab.output.renderOutput(dataTable, element);\n",
              "          const docLink = document.createElement('div');\n",
              "          docLink.innerHTML = docLinkHtml;\n",
              "          element.appendChild(docLink);\n",
              "        }\n",
              "      </script>\n",
              "    </div>\n",
              "  </div>\n",
              "  "
            ]
          },
          "metadata": {},
          "execution_count": 36
        }
      ]
    },
    {
      "cell_type": "code",
      "source": [
        "df.values"
      ],
      "metadata": {
        "colab": {
          "base_uri": "https://localhost:8080/"
        },
        "id": "xOH4M6AgJfE4",
        "outputId": "d92dea01-1bda-40c7-c073-ec01880764f7"
      },
      "execution_count": 38,
      "outputs": [
        {
          "output_type": "execute_result",
          "data": {
            "text/plain": [
              "array([['ARUNACHAL PRADESH', 1916, 48.1, 69.8, 71.1, 316.1, 424.6,\n",
              "        1124.9, nan, 629.7, 333.9, nan, nan, nan, nan, 117.9, 811.8, nan,\n",
              "        nan],\n",
              "       ['ASSAM & MEGHALAYA', 1901, 27.1, 19.5, 30.6, 223.0, 207.0, 524.9,\n",
              "        430.6, 464.1, 291.4, 163.7, 115.6, 1.2, 2498.6, 46.6, 460.5,\n",
              "        1710.9, 280.5],\n",
              "       ['NAGA MANI MIZO TRIPURA', 1930, 22.6, 53.6, 107.5, 161.0, 223.1,\n",
              "        506.6, 438.2, 385.6, 256.7, 100.8, 230.7, 1.0, 2487.4, 76.3,\n",
              "        491.6, 1587.0, 332.5],\n",
              "       ['SUB HIMALAYAN WEST BENGAL & SIKKIM', 1901, 26.5, 14.8, 14.1,\n",
              "        29.2, 195.5, 488.4, 524.8, 501.1, 242.7, 55.5, 17.9, 2.6, 2113.2,\n",
              "        41.3, 238.9, 1757.0, 76.1],\n",
              "       ['GANGETIC WEST BENGAL', 1966, 33.1, 4.4, 5.1, 18.3, 43.4, 296.0,\n",
              "        168.7, 236.6, 187.2, 84.9, 34.7, 6.3, 1118.7, 37.5, 66.8, 888.5,\n",
              "        125.9],\n",
              "       ['ORISSA', 1901, 39.5, 65.1, 16.1, 51.6, 79.0, 78.2, 288.4, 307.7,\n",
              "        185.3, 76.6, 96.7, 0.0, 1284.2, 104.6, 146.7, 859.6, 173.3],\n",
              "       ['JHARKHAND', 1928, 51.4, 11.8, 3.0, 26.4, 48.1, 313.4, 396.7,\n",
              "        213.7, 131.7, 183.3, 0.1, 4.4, 1384.0, 63.2, 77.4, 1055.5, 187.8],\n",
              "       ['HARYANA DELHI & CHANDIGARH', 1937, 0.8, 75.8, 5.3, 20.3, 5.2,\n",
              "        43.7, 171.6, 39.3, 109.8, 0.4, 0.3, 9.1, 481.7, 76.7, 30.8,\n",
              "        364.4, 9.8],\n",
              "       ['JAMMU & KASHMIR', 1901, 66.4, 69.3, 69.6, 132.2, 105.8, 53.4,\n",
              "        171.7, 181.3, 101.8, 24.1, 0.0, 4.4, 979.9, 135.6, 307.6, 508.2,\n",
              "        28.5],\n",
              "       ['COASTAL KARNATAKA', 2015, 1.4, 1.0, 32.3, 72.2, 150.3, 735.3,\n",
              "        930.9, 575.2, 260.3, 208.5, 124.2, 14.3, 3106.0, 2.4, 254.8,\n",
              "        2501.8, 347.1],\n",
              "       ['NORTH INTERIOR KARNATAKA', 1901, 3.5, 18.8, 7.1, 67.2, 65.5,\n",
              "        120.5, 151.9, 115.1, 128.8, 80.0, 13.6, 0.9, 773.0, 22.3, 139.8,\n",
              "        516.4, 94.5],\n",
              "       ['SOUTH INTERIOR KARNATAKA', 2015, 1.7, 0.2, 24.4, 80.5, 125.3,\n",
              "        218.7, 112.0, 136.6, 164.5, 106.1, 138.1, 4.4, 1112.5, 1.9,\n",
              "        230.2, 631.8, 248.6],\n",
              "       ['KERALA', 1901, 28.7, 44.7, 51.6, 160.0, 174.7, 824.6, 743.0,\n",
              "        357.5, 197.7, 266.9, 350.8, 48.4, 3248.6, 73.4, 386.2, 2122.8,\n",
              "        666.1]], dtype=object)"
            ]
          },
          "metadata": {},
          "execution_count": 38
        }
      ]
    },
    {
      "cell_type": "code",
      "source": [
        "df.iloc[2]"
      ],
      "metadata": {
        "colab": {
          "base_uri": "https://localhost:8080/"
        },
        "id": "0bluGCJzJmbr",
        "outputId": "f7d392c1-6813-4477-b1f3-d62df115a28b"
      },
      "execution_count": 40,
      "outputs": [
        {
          "output_type": "execute_result",
          "data": {
            "text/plain": [
              "ANDAMAN & NICOBAR ISLANDS    NAGA MANI MIZO TRIPURA\n",
              "2015                                           1930\n",
              "126.80                                         22.6\n",
              "7.60                                           53.6\n",
              "3.10                                          107.5\n",
              "138.20                                        161.0\n",
              "331.90                                        223.1\n",
              "346.40                                        506.6\n",
              "328.90                                        438.2\n",
              "480.00                                        385.6\n",
              "523.30                                        256.7\n",
              "252.10                                        100.8\n",
              "236.30                                        230.7\n",
              "129.90                                          1.0\n",
              "2904.60                                      2487.4\n",
              "134.40                                         76.3\n",
              "473.20                                        491.6\n",
              "1678.60                                      1587.0\n",
              "618.40                                        332.5\n",
              "Name: 2, dtype: object"
            ]
          },
          "metadata": {},
          "execution_count": 40
        }
      ]
    },
    {
      "cell_type": "code",
      "source": [
        "df = pd.read_csv('/content/rainfall.csv',chunksize=2)\n",
        "for chunksize in df:\n",
        "  print(chunksize)\n"
      ],
      "metadata": {
        "colab": {
          "base_uri": "https://localhost:8080/"
        },
        "id": "vQoPej00LRSi",
        "outputId": "f8096459-14f5-4717-c5d9-8144645167d1"
      },
      "execution_count": 45,
      "outputs": [
        {
          "output_type": "stream",
          "name": "stdout",
          "text": [
            "  ANDAMAN & NICOBAR ISLANDS  2015  126.80  7.60  3.10  138.20  331.90  346.40  \\\n",
            "0         ARUNACHAL PRADESH  1916    48.1  69.8  71.1   316.1   424.6  1124.9   \n",
            "1         ASSAM & MEGHALAYA  1901    27.1  19.5  30.6   223.0   207.0   524.9   \n",
            "\n",
            "   328.90  480.00  523.30  252.10  236.30  129.90  2904.60  134.40  473.20  \\\n",
            "0     NaN   629.7   333.9     NaN     NaN     NaN      NaN   117.9   811.8   \n",
            "1   430.6   464.1   291.4   163.7   115.6     1.2   2498.6    46.6   460.5   \n",
            "\n",
            "   1678.60  618.40  \n",
            "0      NaN     NaN  \n",
            "1   1710.9   280.5  \n",
            "            ANDAMAN & NICOBAR ISLANDS  2015  126.80  7.60   3.10  138.20  \\\n",
            "2              NAGA MANI MIZO TRIPURA  1930    22.6  53.6  107.5   161.0   \n",
            "3  SUB HIMALAYAN WEST BENGAL & SIKKIM  1901    26.5  14.8   14.1    29.2   \n",
            "\n",
            "   331.90  346.40  328.90  480.00  523.30  252.10  236.30  129.90  2904.60  \\\n",
            "2   223.1   506.6   438.2   385.6   256.7   100.8   230.7     1.0   2487.4   \n",
            "3   195.5   488.4   524.8   501.1   242.7    55.5    17.9     2.6   2113.2   \n",
            "\n",
            "   134.40  473.20  1678.60  618.40  \n",
            "2    76.3   491.6   1587.0   332.5  \n",
            "3    41.3   238.9   1757.0    76.1  \n",
            "  ANDAMAN & NICOBAR ISLANDS  2015  126.80  7.60  3.10  138.20  331.90  346.40  \\\n",
            "4      GANGETIC WEST BENGAL  1966    33.1   4.4   5.1    18.3    43.4   296.0   \n",
            "5                    ORISSA  1901    39.5  65.1  16.1    51.6    79.0    78.2   \n",
            "\n",
            "   328.90  480.00  523.30  252.10  236.30  129.90  2904.60  134.40  473.20  \\\n",
            "4   168.7   236.6   187.2    84.9    34.7     6.3   1118.7    37.5    66.8   \n",
            "5   288.4   307.7   185.3    76.6    96.7     0.0   1284.2   104.6   146.7   \n",
            "\n",
            "   1678.60  618.40  \n",
            "4    888.5   125.9  \n",
            "5    859.6   173.3  \n",
            "    ANDAMAN & NICOBAR ISLANDS  2015  126.80  7.60  3.10  138.20  331.90  \\\n",
            "6                   JHARKHAND  1928    51.4  11.8   3.0    26.4    48.1   \n",
            "7  HARYANA DELHI & CHANDIGARH  1937     0.8  75.8   5.3    20.3     5.2   \n",
            "\n",
            "   346.40  328.90  480.00  523.30  252.10  236.30  129.90  2904.60  134.40  \\\n",
            "6   313.4   396.7   213.7   131.7   183.3     0.1     4.4   1384.0    63.2   \n",
            "7    43.7   171.6    39.3   109.8     0.4     0.3     9.1    481.7    76.7   \n",
            "\n",
            "   473.20  1678.60  618.40  \n",
            "6    77.4   1055.5   187.8  \n",
            "7    30.8    364.4     9.8  \n",
            "  ANDAMAN & NICOBAR ISLANDS  2015  126.80  7.60  3.10  138.20  331.90  346.40  \\\n",
            "8           JAMMU & KASHMIR  1901    66.4  69.3  69.6   132.2   105.8    53.4   \n",
            "9         COASTAL KARNATAKA  2015     1.4   1.0  32.3    72.2   150.3   735.3   \n",
            "\n",
            "   328.90  480.00  523.30  252.10  236.30  129.90  2904.60  134.40  473.20  \\\n",
            "8   171.7   181.3   101.8    24.1     0.0     4.4    979.9   135.6   307.6   \n",
            "9   930.9   575.2   260.3   208.5   124.2    14.3   3106.0     2.4   254.8   \n",
            "\n",
            "   1678.60  618.40  \n",
            "8    508.2    28.5  \n",
            "9   2501.8   347.1  \n",
            "   ANDAMAN & NICOBAR ISLANDS  2015  126.80  7.60  3.10  138.20  331.90  \\\n",
            "10  NORTH INTERIOR KARNATAKA  1901     3.5  18.8   7.1    67.2    65.5   \n",
            "11  SOUTH INTERIOR KARNATAKA  2015     1.7   0.2  24.4    80.5   125.3   \n",
            "\n",
            "    346.40  328.90  480.00  523.30  252.10  236.30  129.90  2904.60  134.40  \\\n",
            "10   120.5   151.9   115.1   128.8    80.0    13.6     0.9    773.0    22.3   \n",
            "11   218.7   112.0   136.6   164.5   106.1   138.1     4.4   1112.5     1.9   \n",
            "\n",
            "    473.20  1678.60  618.40  \n",
            "10   139.8    516.4    94.5  \n",
            "11   230.2    631.8   248.6  \n",
            "   ANDAMAN & NICOBAR ISLANDS  2015  126.80  7.60  3.10  138.20  331.90  \\\n",
            "12                    KERALA  1901    28.7  44.7  51.6   160.0   174.7   \n",
            "\n",
            "    346.40  328.90  480.00  523.30  252.10  236.30  129.90  2904.60  134.40  \\\n",
            "12   824.6   743.0   357.5   197.7   266.9   350.8    48.4   3248.6    73.4   \n",
            "\n",
            "    473.20  1678.60  618.40  \n",
            "12   386.2   2122.8   666.1  \n"
          ]
        }
      ]
    },
    {
      "cell_type": "code",
      "source": [
        "df.iloc[11]"
      ],
      "metadata": {
        "colab": {
          "base_uri": "https://localhost:8080/"
        },
        "id": "_qeOhdtFJvm7",
        "outputId": "cf8b9e83-4eb5-45c0-ba49-39f8010b6815"
      },
      "execution_count": 42,
      "outputs": [
        {
          "output_type": "execute_result",
          "data": {
            "text/plain": [
              "ANDAMAN & NICOBAR ISLANDS    SOUTH INTERIOR KARNATAKA\n",
              "2015                                             2015\n",
              "126.80                                            1.7\n",
              "7.60                                              0.2\n",
              "3.10                                             24.4\n",
              "138.20                                           80.5\n",
              "331.90                                          125.3\n",
              "346.40                                          218.7\n",
              "328.90                                          112.0\n",
              "480.00                                          136.6\n",
              "523.30                                          164.5\n",
              "252.10                                          106.1\n",
              "236.30                                          138.1\n",
              "129.90                                            4.4\n",
              "2904.60                                        1112.5\n",
              "134.40                                            1.9\n",
              "473.20                                          230.2\n",
              "1678.60                                         631.8\n",
              "618.40                                          248.6\n",
              "Name: 11, dtype: object"
            ]
          },
          "metadata": {},
          "execution_count": 42
        }
      ]
    }
  ]
}