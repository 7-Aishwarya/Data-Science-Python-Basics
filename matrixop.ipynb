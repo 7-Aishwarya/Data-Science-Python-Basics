{
  "nbformat": 4,
  "nbformat_minor": 0,
  "metadata": {
    "colab": {
      "provenance": [],
      "name": "matrixop.ipynb",
      "authorship_tag": "ABX9TyM79l1izkoCGlNTcdPMFEcb",
      "include_colab_link": true
    },
    "kernelspec": {
      "name": "python3",
      "display_name": "Python 3"
    },
    "language_info": {
      "name": "python"
    }
  },
  "cells": [
    {
      "cell_type": "markdown",
      "metadata": {
        "id": "view-in-github",
        "colab_type": "text"
      },
      "source": [
        "<a href=\"https://colab.research.google.com/github/7-Aishwarya/Data-Science-Python-Basics/blob/main/matrixop.ipynb\" target=\"_parent\"><img src=\"https://colab.research.google.com/assets/colab-badge.svg\" alt=\"Open In Colab\"/></a>"
      ]
    },
    {
      "cell_type": "code",
      "execution_count": null,
      "metadata": {
        "colab": {
          "base_uri": "https://localhost:8080/"
        },
        "id": "XAjL8kUZALws",
        "outputId": "f67cdc31-31d9-4739-f34e-5e24a2aa55e9"
      },
      "outputs": [
        {
          "output_type": "stream",
          "name": "stdout",
          "text": [
            "[1 2 3 4 5]\n",
            "15.0\n"
          ]
        }
      ],
      "source": [
        "from numpy import array\n",
        "from numpy.linalg import norm\n",
        "arr = array([1, 2, 3, 4, 5])\n",
        "print(arr)\n",
        "norm_l1 = norm(arr, 1)\n",
        "print(norm_l1)"
      ]
    },
    {
      "cell_type": "code",
      "source": [
        "matrix = [[1, 2, 3, 4],\n",
        "    [5, 6, 7, 8],\n",
        "    [9, 10, 11, 12]]\n",
        " \n",
        "print(\"Matrix =\", matrix)"
      ],
      "metadata": {
        "colab": {
          "base_uri": "https://localhost:8080/"
        },
        "id": "aGnGXtdmEgoI",
        "outputId": "17342dbd-c947-46ce-f7ba-60267cedaadd"
      },
      "execution_count": null,
      "outputs": [
        {
          "output_type": "stream",
          "name": "stdout",
          "text": [
            "Matrix = [[1, 2, 3, 4], [5, 6, 7, 8], [9, 10, 11, 12]]\n"
          ]
        }
      ]
    },
    {
      "cell_type": "code",
      "source": [
        "Row = int(input(\"Enter the number of rows:\"))\n",
        "Column = int(input(\"Enter the number of columns:\"))\n",
        " \n",
        "# Initialize matrix\n",
        "matrix = []\n",
        "print(\"Enter the entries row wise:\")\n",
        " \n",
        "# For user input\n",
        "# A for loop for row entries\n",
        "for row in range(Row):   \n",
        "    a = []\n",
        "    # A for loop for column entries\n",
        "    for column in range(Column):  \n",
        "        a.append(int(input()))\n",
        "    matrix.append(a)\n",
        " \n",
        "# For printing the matrix\n",
        "for row in range(Row):\n",
        "    for column in range(Column):\n",
        "        print(matrix[row][column], end=\" \")\n",
        "    print()"
      ],
      "metadata": {
        "colab": {
          "base_uri": "https://localhost:8080/"
        },
        "id": "fT2j_XvZEiPX",
        "outputId": "ec07507d-055c-4443-a8c0-da2896a35a71"
      },
      "execution_count": null,
      "outputs": [
        {
          "output_type": "stream",
          "name": "stdout",
          "text": [
            "Enter the number of rows:2\n",
            "Enter the number of columns:2\n",
            "Enter the entries row wise:\n",
            "1\n",
            "2\n",
            "3\n",
            "4\n",
            "1 2 \n",
            "3 4 \n"
          ]
        }
      ]
    },
    {
      "cell_type": "code",
      "source": [
        "X = [[1, 2, 3],[4, 5, 6], [7, 8, 9]]\n",
        "Y = [[9, 8, 7], [6, 5, 4], [3, 2, 1]]\n",
        "Add_result = [[X[row][column] + Y[row][column]\n",
        "               for column in range(len(X[0]))]\n",
        "               for row in range(len(X))]\n",
        "Sub_result = [[X[row][column] - Y[row][column]\n",
        "               for column in range(len(X[0]))]\n",
        "               for row in range(len(X))]\n",
        " \n",
        "print(\"Matrix Addition\")\n",
        "for r in Add_result:\n",
        "    print(r)\n",
        " \n",
        "print(\"\\nMatrix Subtraction\")\n",
        "for r in Sub_result:\n",
        "    print(r)"
      ],
      "metadata": {
        "colab": {
          "base_uri": "https://localhost:8080/"
        },
        "id": "6KBWTgN8E4Ao",
        "outputId": "8d55397e-f5b1-4af1-9c19-b27477fd2c81"
      },
      "execution_count": null,
      "outputs": [
        {
          "output_type": "stream",
          "name": "stdout",
          "text": [
            "Matrix Addition\n",
            "[10, 10, 10]\n",
            "[10, 10, 10]\n",
            "[10, 10, 10]\n",
            "\n",
            "Matrix Subtraction\n",
            "[-8, -6, -4]\n",
            "[-2, 0, 2]\n",
            "[4, 6, 8]\n"
          ]
        }
      ]
    },
    {
      "cell_type": "code",
      "source": [
        "\n",
        "X = [[1, 2, 3],[4, 5, 6], [7, 8, 9]]\n",
        "Y = [[9, 8, 7], [6, 5, 4], [3, 2, 1]]\n",
        "rmatrix = [[0, 0, 0], [0, 0, 0], [0, 0, 0]]\n",
        " \n",
        "for row in range(len(X)):\n",
        "    for column in range(len(X[0])):\n",
        "        rmatrix[row][column] = X[row][column] * Y[row][column]\n",
        "         \n",
        "print(\"Matrix Multiplication\",)\n",
        "for r in rmatrix:\n",
        "    print(r)\n",
        "         \n",
        "for i in range(len(X)):\n",
        "    for j in range(len(X[0])):\n",
        "        rmatrix[row][column] = X[row][column] // Y[row][column]\n",
        " \n",
        "print(\"\\nMatrix Division\",)  \n",
        "for r in rmatrix:\n",
        "    print(r)"
      ],
      "metadata": {
        "colab": {
          "base_uri": "https://localhost:8080/"
        },
        "id": "Ry7RVY_1Fhdx",
        "outputId": "c87b7a54-dcdf-452d-f8a4-17c817db4a57"
      },
      "execution_count": null,
      "outputs": [
        {
          "output_type": "stream",
          "name": "stdout",
          "text": [
            "Matrix Multiplication\n",
            "[9, 16, 21]\n",
            "[24, 25, 24]\n",
            "[21, 16, 9]\n",
            "\n",
            "Matrix Division\n",
            "[9, 16, 21]\n",
            "[24, 25, 24]\n",
            "[21, 16, 9]\n"
          ]
        }
      ]
    },
    {
      "cell_type": "code",
      "source": [],
      "metadata": {
        "id": "soljOO5jFeuR"
      },
      "execution_count": null,
      "outputs": []
    }
  ]
}